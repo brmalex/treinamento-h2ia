{
  "nbformat": 4,
  "nbformat_minor": 0,
  "metadata": {
    "colab": {
      "provenance": []
    },
    "kernelspec": {
      "name": "python3",
      "display_name": "Python 3"
    },
    "language_info": {
      "name": "python"
    }
  },
  "cells": [
    {
      "cell_type": "code",
      "execution_count": 4,
      "metadata": {
        "colab": {
          "base_uri": "https://localhost:8080/"
        },
        "id": "PTZlqKfUXMD0",
        "outputId": "ddf4d9c4-24f8-4108-aebf-86d63ddc4fd0"
      },
      "outputs": [
        {
          "output_type": "stream",
          "name": "stdout",
          "text": [
            "[[5 3 8]\n",
            " [5 6 4]\n",
            " [7 3 4]]\n",
            "[[0 8 5]\n",
            " [8 1 6]\n",
            " [8 3 8]]\n",
            "[[False False False]\n",
            " [False False False]\n",
            " [False  True False]]\n"
          ]
        }
      ],
      "source": [
        "import numpy as np\n",
        "\n",
        "a = np.random.randint(10, size=(3,3))\n",
        "print(a)\n",
        "\n",
        "b = np.random.randint(10, size=(3,3))\n",
        "print(b)\n",
        "\n",
        "c = (a==b)\n",
        "print(c)"
      ]
    },
    {
      "cell_type": "code",
      "source": [
        "x = np.arange(9).reshape(3,3)\n",
        "print(x)\n",
        "\n",
        "y = x\n",
        "y[np.arange(3), np.arange(3)] = 0\n",
        "print(x)"
      ],
      "metadata": {
        "colab": {
          "base_uri": "https://localhost:8080/"
        },
        "id": "R3bBzDQLyDcs",
        "outputId": "bb99414e-54e6-4fbd-cfe1-0e85aea1953f"
      },
      "execution_count": 21,
      "outputs": [
        {
          "output_type": "stream",
          "name": "stdout",
          "text": [
            "[[0 1 2]\n",
            " [3 4 5]\n",
            " [6 7 8]]\n",
            "[[0 1 2]\n",
            " [3 0 5]\n",
            " [6 7 0]]\n"
          ]
        }
      ]
    },
    {
      "cell_type": "code",
      "source": [
        "x[x>0]"
      ],
      "metadata": {
        "colab": {
          "base_uri": "https://localhost:8080/"
        },
        "id": "1PJObm903-mx",
        "outputId": "7b181f19-a29f-49af-815b-8d12d513a56f"
      },
      "execution_count": 59,
      "outputs": [
        {
          "output_type": "execute_result",
          "data": {
            "text/plain": [
              "array([1, 2, 3, 5, 6, 7])"
            ]
          },
          "metadata": {},
          "execution_count": 59
        }
      ]
    },
    {
      "cell_type": "code",
      "source": [
        "z = np.arange(1,10).reshape(3,3)\n",
        "z = z*[6,3,2]\n",
        "z"
      ],
      "metadata": {
        "colab": {
          "base_uri": "https://localhost:8080/"
        },
        "id": "4QHyNn9kj4zx",
        "outputId": "44ab47eb-3af7-4199-d05a-7f056fe7fff4"
      },
      "execution_count": 57,
      "outputs": [
        {
          "output_type": "execute_result",
          "data": {
            "text/plain": [
              "array([[ 6,  6,  6],\n",
              "       [24, 15, 12],\n",
              "       [42, 24, 18]])"
            ]
          },
          "metadata": {},
          "execution_count": 57
        }
      ]
    },
    {
      "cell_type": "code",
      "source": [
        "import matplotlib.pyplot as plt\n",
        "\n",
        "plt.plot(np.arange(9),x.reshape(9))\n",
        "plt.plot(np.arange(9),z.T.reshape(9))\n",
        "plt.plot(np.arange(9),z.reshape(9))\n",
        "plt.legend([\"x\", \"z\", \"z.T\"])\n",
        "plt.title(\"Sei la\")\n",
        "plt.xlabel(\"Posição\")\n",
        "plt.ylabel(\"Número\")"
      ],
      "metadata": {
        "colab": {
          "base_uri": "https://localhost:8080/",
          "height": 312
        },
        "id": "DqAmU1KqqUsW",
        "outputId": "3e97ec22-f22f-4508-87a2-cc00fe39255b"
      },
      "execution_count": 91,
      "outputs": [
        {
          "output_type": "execute_result",
          "data": {
            "text/plain": [
              "Text(0, 0.5, 'Número')"
            ]
          },
          "metadata": {},
          "execution_count": 91
        },
        {
          "output_type": "display_data",
          "data": {
            "text/plain": [
              "<Figure size 432x288 with 1 Axes>"
            ],
            "image/png": "[encoded data removed]"
          },
          "metadata": {
            "needs_background": "light"
          }
        }
      ]
    }
  ]
}